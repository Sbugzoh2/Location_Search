{
 "cells": [
  {
   "cell_type": "markdown",
   "id": "8f56ac4d",
   "metadata": {},
   "source": [
    "# LOCATION SEARCH BASED ON THE POSTAL CODE:"
   ]
  },
  {
   "cell_type": "markdown",
   "id": "edfde0b0",
   "metadata": {},
   "source": [
    "### Importing Packages: "
   ]
  },
  {
   "cell_type": "code",
   "execution_count": 19,
   "id": "e4ade519",
   "metadata": {},
   "outputs": [],
   "source": [
    "from geopy.geocoders import Nominatim\n",
    "import pgeocode\n",
    "import pandas as pd\n",
    "import numpy  as np"
   ]
  },
  {
   "cell_type": "markdown",
   "id": "ee7a3b08",
   "metadata": {},
   "source": [
    "###  Loading Data: "
   ]
  },
  {
   "cell_type": "code",
   "execution_count": 20,
   "id": "4ed879f5",
   "metadata": {},
   "outputs": [
    {
     "data": {
      "text/html": [
       "<div>\n",
       "<style scoped>\n",
       "    .dataframe tbody tr th:only-of-type {\n",
       "        vertical-align: middle;\n",
       "    }\n",
       "\n",
       "    .dataframe tbody tr th {\n",
       "        vertical-align: top;\n",
       "    }\n",
       "\n",
       "    .dataframe thead th {\n",
       "        text-align: right;\n",
       "    }\n",
       "</style>\n",
       "<table border=\"1\" class=\"dataframe\">\n",
       "  <thead>\n",
       "    <tr style=\"text-align: right;\">\n",
       "      <th></th>\n",
       "      <th>POSTAL CODE</th>\n",
       "    </tr>\n",
       "  </thead>\n",
       "  <tbody>\n",
       "    <tr>\n",
       "      <th>0</th>\n",
       "      <td>2</td>\n",
       "    </tr>\n",
       "    <tr>\n",
       "      <th>1</th>\n",
       "      <td>3</td>\n",
       "    </tr>\n",
       "    <tr>\n",
       "      <th>2</th>\n",
       "      <td>4</td>\n",
       "    </tr>\n",
       "    <tr>\n",
       "      <th>3</th>\n",
       "      <td>7300</td>\n",
       "    </tr>\n",
       "    <tr>\n",
       "      <th>4</th>\n",
       "      <td>2192</td>\n",
       "    </tr>\n",
       "  </tbody>\n",
       "</table>\n",
       "</div>"
      ],
      "text/plain": [
       "   POSTAL CODE\n",
       "0            2\n",
       "1            3\n",
       "2            4\n",
       "3         7300\n",
       "4         2192"
      ]
     },
     "execution_count": 20,
     "metadata": {},
     "output_type": "execute_result"
    }
   ],
   "source": [
    "data = pd.read_csv('pcodes.csv')\n",
    "\n",
    "#Display first 5 rows\n",
    "data.head()"
   ]
  },
  {
   "cell_type": "markdown",
   "id": "876f4b37",
   "metadata": {},
   "source": [
    "### Data Cleansing:"
   ]
  },
  {
   "cell_type": "markdown",
   "id": "02f3d5e9",
   "metadata": {},
   "source": [
    "Check for missing values:"
   ]
  },
  {
   "cell_type": "code",
   "execution_count": 21,
   "id": "75be9923",
   "metadata": {},
   "outputs": [
    {
     "data": {
      "text/plain": [
       "0"
      ]
     },
     "execution_count": 21,
     "metadata": {},
     "output_type": "execute_result"
    }
   ],
   "source": [
    "data['POSTAL CODE'].isna().sum()"
   ]
  },
  {
   "cell_type": "markdown",
   "id": "61570f3e",
   "metadata": {},
   "source": [
    "Check data type:"
   ]
  },
  {
   "cell_type": "code",
   "execution_count": 22,
   "id": "a751c078",
   "metadata": {},
   "outputs": [
    {
     "data": {
      "text/plain": [
       "POSTAL CODE    int64\n",
       "dtype: object"
      ]
     },
     "execution_count": 22,
     "metadata": {},
     "output_type": "execute_result"
    }
   ],
   "source": [
    "data.dtypes"
   ]
  },
  {
   "cell_type": "markdown",
   "id": "8cdde1e4",
   "metadata": {},
   "source": [
    "Since the data type for postal code is an integer we need to convert this to a string or object:"
   ]
  },
  {
   "cell_type": "code",
   "execution_count": 23,
   "id": "786d14aa",
   "metadata": {},
   "outputs": [],
   "source": [
    "data['POSTAL CODE'] = data['POSTAL CODE'].astype(str)"
   ]
  },
  {
   "cell_type": "markdown",
   "id": "64a7626e",
   "metadata": {},
   "source": [
    "Confirm that the data type has converted:"
   ]
  },
  {
   "cell_type": "code",
   "execution_count": 24,
   "id": "12d98b7f",
   "metadata": {},
   "outputs": [
    {
     "data": {
      "text/plain": [
       "POSTAL CODE    object\n",
       "dtype: object"
      ]
     },
     "execution_count": 24,
     "metadata": {},
     "output_type": "execute_result"
    }
   ],
   "source": [
    "data.dtypes"
   ]
  },
  {
   "cell_type": "markdown",
   "id": "bb621285",
   "metadata": {},
   "source": [
    " Create a function that will ensure that the postal code consist of 4 characters:"
   ]
  },
  {
   "cell_type": "code",
   "execution_count": 25,
   "id": "9dc4146a",
   "metadata": {},
   "outputs": [
    {
     "data": {
      "text/html": [
       "<div>\n",
       "<style scoped>\n",
       "    .dataframe tbody tr th:only-of-type {\n",
       "        vertical-align: middle;\n",
       "    }\n",
       "\n",
       "    .dataframe tbody tr th {\n",
       "        vertical-align: top;\n",
       "    }\n",
       "\n",
       "    .dataframe thead th {\n",
       "        text-align: right;\n",
       "    }\n",
       "</style>\n",
       "<table border=\"1\" class=\"dataframe\">\n",
       "  <thead>\n",
       "    <tr style=\"text-align: right;\">\n",
       "      <th></th>\n",
       "      <th>POSTAL CODE</th>\n",
       "    </tr>\n",
       "  </thead>\n",
       "  <tbody>\n",
       "    <tr>\n",
       "      <th>0</th>\n",
       "      <td>0002</td>\n",
       "    </tr>\n",
       "    <tr>\n",
       "      <th>1</th>\n",
       "      <td>0003</td>\n",
       "    </tr>\n",
       "    <tr>\n",
       "      <th>2</th>\n",
       "      <td>0004</td>\n",
       "    </tr>\n",
       "    <tr>\n",
       "      <th>3</th>\n",
       "      <td>7300</td>\n",
       "    </tr>\n",
       "    <tr>\n",
       "      <th>4</th>\n",
       "      <td>2192</td>\n",
       "    </tr>\n",
       "  </tbody>\n",
       "</table>\n",
       "</div>"
      ],
      "text/plain": [
       "  POSTAL CODE\n",
       "0        0002\n",
       "1        0003\n",
       "2        0004\n",
       "3        7300\n",
       "4        2192"
      ]
     },
     "execution_count": 25,
     "metadata": {},
     "output_type": "execute_result"
    }
   ],
   "source": [
    "# Function:\n",
    "def convert_pcode(value):\n",
    "    if len(value) == 1:\n",
    "        return \"000\" + value\n",
    "    elif len(value) == 2:\n",
    "        return \"00\" + value\n",
    "    elif len(value) == 3:\n",
    "        return \"0\" + value\n",
    "    else:\n",
    "        return value # actual postal code will be returned as is only if its len is equals to 4 characters\n",
    "    \n",
    "# Apply the above function to the \"POSTAL CODE\" column:\n",
    "data[\"POSTAL CODE\"] = data[\"POSTAL CODE\"].apply(convert_pcode)\n",
    "\n",
    "# Display the modified DataFrame\n",
    "data.head()"
   ]
  },
  {
   "cell_type": "markdown",
   "id": "259ff02a",
   "metadata": {},
   "source": [
    "### Querying the Location:"
   ]
  },
  {
   "cell_type": "code",
   "execution_count": 26,
   "id": "8c62c830",
   "metadata": {},
   "outputs": [
    {
     "data": {
      "text/html": [
       "<div>\n",
       "<style scoped>\n",
       "    .dataframe tbody tr th:only-of-type {\n",
       "        vertical-align: middle;\n",
       "    }\n",
       "\n",
       "    .dataframe tbody tr th {\n",
       "        vertical-align: top;\n",
       "    }\n",
       "\n",
       "    .dataframe thead th {\n",
       "        text-align: right;\n",
       "    }\n",
       "</style>\n",
       "<table border=\"1\" class=\"dataframe\">\n",
       "  <thead>\n",
       "    <tr style=\"text-align: right;\">\n",
       "      <th></th>\n",
       "      <th>postal_code</th>\n",
       "      <th>country_code</th>\n",
       "      <th>place_name</th>\n",
       "      <th>latitude</th>\n",
       "      <th>longitude</th>\n",
       "      <th>Suburb</th>\n",
       "      <th>City</th>\n",
       "      <th>Province</th>\n",
       "      <th>Municipality</th>\n",
       "    </tr>\n",
       "  </thead>\n",
       "  <tbody>\n",
       "    <tr>\n",
       "      <th>0</th>\n",
       "      <td>0002</td>\n",
       "      <td>ZA</td>\n",
       "      <td>Pretoria</td>\n",
       "      <td>-25.70690</td>\n",
       "      <td>28.2294</td>\n",
       "      <td>Tshwane Ward 54</td>\n",
       "      <td>Pretoria</td>\n",
       "      <td>Gauteng</td>\n",
       "      <td>City of Tshwane Metropolitan Municipality</td>\n",
       "    </tr>\n",
       "    <tr>\n",
       "      <th>1</th>\n",
       "      <td>0003</td>\n",
       "      <td>ZA</td>\n",
       "      <td>Pretoria</td>\n",
       "      <td>-25.70690</td>\n",
       "      <td>28.2294</td>\n",
       "      <td>Tshwane Ward 54</td>\n",
       "      <td>Pretoria</td>\n",
       "      <td>Gauteng</td>\n",
       "      <td>City of Tshwane Metropolitan Municipality</td>\n",
       "    </tr>\n",
       "    <tr>\n",
       "      <th>2</th>\n",
       "      <td>0004</td>\n",
       "      <td>ZA</td>\n",
       "      <td>Pretoria</td>\n",
       "      <td>-25.70690</td>\n",
       "      <td>28.2294</td>\n",
       "      <td>Tshwane Ward 54</td>\n",
       "      <td>Pretoria</td>\n",
       "      <td>Gauteng</td>\n",
       "      <td>City of Tshwane Metropolitan Municipality</td>\n",
       "    </tr>\n",
       "    <tr>\n",
       "      <th>3</th>\n",
       "      <td>7300</td>\n",
       "      <td>ZA</td>\n",
       "      <td>Malmesbury</td>\n",
       "      <td>-33.45000</td>\n",
       "      <td>18.7333</td>\n",
       "      <td>Swartland Ward 10</td>\n",
       "      <td>Swartland Local Municipality</td>\n",
       "      <td>Western Cape</td>\n",
       "      <td>West Coast District Municipality</td>\n",
       "    </tr>\n",
       "    <tr>\n",
       "      <th>4</th>\n",
       "      <td>2192</td>\n",
       "      <td>ZA</td>\n",
       "      <td>Orange Grove, Johannesburg</td>\n",
       "      <td>-26.18335</td>\n",
       "      <td>28.0833</td>\n",
       "      <td>Bezuidenhoutsvallei</td>\n",
       "      <td>Johannesburg</td>\n",
       "      <td>Gauteng</td>\n",
       "      <td>City of Johannesburg Metropolitan Municipality</td>\n",
       "    </tr>\n",
       "  </tbody>\n",
       "</table>\n",
       "</div>"
      ],
      "text/plain": [
       "  postal_code country_code                  place_name  latitude  longitude  \\\n",
       "0        0002           ZA                    Pretoria -25.70690    28.2294   \n",
       "1        0003           ZA                    Pretoria -25.70690    28.2294   \n",
       "2        0004           ZA                    Pretoria -25.70690    28.2294   \n",
       "3        7300           ZA                  Malmesbury -33.45000    18.7333   \n",
       "4        2192           ZA  Orange Grove, Johannesburg -26.18335    28.0833   \n",
       "\n",
       "                Suburb                          City      Province  \\\n",
       "0      Tshwane Ward 54                      Pretoria       Gauteng   \n",
       "1      Tshwane Ward 54                      Pretoria       Gauteng   \n",
       "2      Tshwane Ward 54                      Pretoria       Gauteng   \n",
       "3    Swartland Ward 10  Swartland Local Municipality  Western Cape   \n",
       "4  Bezuidenhoutsvallei                  Johannesburg       Gauteng   \n",
       "\n",
       "                                     Municipality  \n",
       "0       City of Tshwane Metropolitan Municipality  \n",
       "1       City of Tshwane Metropolitan Municipality  \n",
       "2       City of Tshwane Metropolitan Municipality  \n",
       "3                West Coast District Municipality  \n",
       "4  City of Johannesburg Metropolitan Municipality  "
      ]
     },
     "execution_count": 26,
     "metadata": {},
     "output_type": "execute_result"
    }
   ],
   "source": [
    "# Replace 'ZA' with the appropriate country code\n",
    "country_code = 'ZA'\n",
    "\n",
    "# Initialize the Nominatim instance for the specified country\n",
    "nomi = pgeocode.Nominatim(country_code)\n",
    "\n",
    "# Initialize the Nominatim geocoder\n",
    "geolocator = Nominatim(user_agent=\"MyGeocodingApp/1.0\")\n",
    "\n",
    "# Convert postal codes column into a list:\n",
    "postal_code_list = list(data['POSTAL CODE']) \n",
    "\n",
    "# Create a new DataFrame with Postal Codes Coordinates\n",
    "location = pd.DataFrame(nomi.query_postal_code(postal_code_list))\n",
    "\n",
    "#Create a copy of the above DataFrame with only the relavant columns:\n",
    "location_df = location[['postal_code', 'country_code', 'place_name', 'latitude', 'longitude']].copy()\n",
    "\n",
    "# Function to get suburb, city, municipality and province based on coordinates\n",
    "def get_location(row):\n",
    "    try:\n",
    "        if pd.notna(row['latitude']) and pd.notna(row['longitude']):\n",
    "            location = geolocator.reverse((row['latitude'], row['longitude']), exactly_one=True)\n",
    "            address = location.raw['address']\n",
    "            suburb = address.get('suburb', '')\n",
    "            city = address.get('city', '')\n",
    "            province = address.get('state', '')\n",
    "            municipality = address.get('county', '')\n",
    "            return pd.Series({'Suburb': suburb, 'City': city, 'Province': province, 'Municipality': municipality})\n",
    "        else:\n",
    "            return pd.Series({'Suburb': np.nan, 'City': np.nan, 'Province': np.nan, 'Municipality': np.nan})\n",
    "    except Exception as e:\n",
    "        print(f\"Error: {e}\")\n",
    "        return pd.Series({'Suburb': np.nan, 'City': np.nan, 'Province': np.nan, 'Municipality': np.nan})\n",
    "\n",
    "# Apply the function to each row of the DataFrame\n",
    "result_df = location_df.apply(get_location, axis=1)\n",
    "\n",
    "# Concatenate the original DataFrame with the results\n",
    "final_df = pd.concat([location_df, result_df], axis=1)\n",
    "\n",
    "# Display the final DataFrame\n",
    "final_df.head()"
   ]
  },
  {
   "cell_type": "markdown",
   "id": "d798a3f8",
   "metadata": {},
   "source": [
    "### Save the results as excel file:"
   ]
  },
  {
   "cell_type": "code",
   "execution_count": 27,
   "id": "7476221b",
   "metadata": {},
   "outputs": [],
   "source": [
    "final_df.to_csv('results.xls', index=False)"
   ]
  },
  {
   "cell_type": "code",
   "execution_count": null,
   "id": "d6da21a8",
   "metadata": {},
   "outputs": [],
   "source": []
  }
 ],
 "metadata": {
  "kernelspec": {
   "display_name": "Python 3 (ipykernel)",
   "language": "python",
   "name": "python3"
  },
  "language_info": {
   "codemirror_mode": {
    "name": "ipython",
    "version": 3
   },
   "file_extension": ".py",
   "mimetype": "text/x-python",
   "name": "python",
   "nbconvert_exporter": "python",
   "pygments_lexer": "ipython3",
   "version": "3.9.13"
  }
 },
 "nbformat": 4,
 "nbformat_minor": 5
}
